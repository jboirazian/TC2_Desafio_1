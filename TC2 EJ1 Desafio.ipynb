{
 "cells": [
  {
   "cell_type": "markdown",
   "metadata": {},
   "source": [
    "# 1) Diseño filtro de Filtro de Maxima Planicidad:\n",
    "\n",
    "## Requisitos de plantilla:\n",
    "\n",
    "$$\n",
    "\\alpha max = 1dB\t;500Hz\n",
    "$$\n",
    "\n",
    "$$\n",
    "\\alpha min = 18dB\t ;1500Hz\n",
    "$$"
   ]
  },
  {
   "cell_type": "markdown",
   "metadata": {},
   "source": [
    "## Cálculo de ϵ y N\n",
    "\n",
    "Tras haber aplicado una norma de frecuencia $$ N_{\\Omega_1} = 2 \\pi 500Hz$$\n",
    "\n"
   ]
  },
  {
   "cell_type": "markdown",
   "metadata": {},
   "source": [
    "$$\n",
    "αmax = 1dB\t;wp=1\n",
    "$$\n",
    "\n",
    "$$\n",
    "αmin = 18dB\t ;ws=3\n",
    "$$"
   ]
  },
  {
   "cell_type": "markdown",
   "metadata": {},
   "source": [
    "Entonces, a partir de la expresión de la transferencia de la cual conocemos dos valores de w y dos valores del módulo de la atenuación, vamos a despejar los parámetros del filtro. Comencemos por $wp=1$\n"
   ]
  },
  {
   "cell_type": "markdown",
   "metadata": {},
   "source": [
    "$$\\alpha_{max} = 20 log(\\sqrt{1 + \\epsilon^2 w_p^{2N}})$$\n",
    "$$\\alpha_{max} = 10 log(1 + \\epsilon^2 w_p^{2N})$$\n",
    "$$\\frac{\\alpha_{max}}{10} = log(1 + \\epsilon^2 w_p^{2N})$$\n",
    "$$10^{0.1\\alpha_{max}} - 1 = \\epsilon^2$$\n",
    "$$\\epsilon = \\sqrt{10^{0.1\\alpha_{max}} - 1}$$\n"
   ]
  },
  {
   "cell_type": "code",
   "execution_count": 3,
   "metadata": {},
   "outputs": [
    {
     "name": "stdout",
     "output_type": "stream",
     "text": [
      "0.5088471399095875\n"
     ]
    }
   ],
   "source": [
    "import math as m\n",
    "\n",
    "alpha_max = 1    # dB\n",
    "alpha_min = 18   # dB\n",
    "w_p = 1\n",
    "w_s = 3\n",
    "epsilon = m.sqrt(m.pow(10, 0.1 * alpha_max) - 1)\n",
    "print(epsilon)\n"
   ]
  },
  {
   "cell_type": "markdown",
   "metadata": {},
   "source": [
    "Proseguimos con el cálculo de N. De forma similar, utilizaremos la misma expresión pero evaluada en $ws=4$. Resulta:"
   ]
  },
  {
   "cell_type": "markdown",
   "metadata": {},
   "source": [
    "$$\\alpha_{min} = 20 log(\\sqrt{1 + \\epsilon^2 w_s^{2N}})$$\n",
    "$$\\alpha_{min} = 10 log(1 + \\epsilon^2 w_s^{2N})$$\n",
    "$$\\frac{10^{0.1\\alpha_{min}} - 1}{10^{0.1\\alpha_{max}} - 1} = w_s^{2N}$$\n",
    "$$log(\\frac{10^{0.1\\alpha_{min}} - 1}{10^{0.1\\alpha_{max}} - 1}) = 2N log(w_s)$$\n",
    "$$N = \\frac{log(\\frac{10^{0.1\\alpha_{min}} - 1}{10^{0.1\\alpha_{max}} - 1})}{2 log(w_s)}$$\n",
    "\n"
   ]
  },
  {
   "cell_type": "code",
   "execution_count": 11,
   "metadata": {},
   "outputs": [
    {
     "data": {
      "text/plain": [
       "3"
      ]
     },
     "execution_count": 11,
     "metadata": {},
     "output_type": "execute_result"
    }
   ],
   "source": [
    "N = m.log10((m.pow(10, alpha_min * 0.1) - 1) / (m.pow(10, alpha_max * 0.1) - 1)) / (2 * m.log10(w_s))\n",
    "N = m.ceil(N)\n",
    "N"
   ]
  },
  {
   "cell_type": "markdown",
   "metadata": {},
   "source": [
    "###### Como la condicion del problema es que el filtro sea de orden 2 , NO es posible obvtener dicho filtro modulo de transferencia de Maxima planicidad , ya que N>2"
   ]
  },
  {
   "cell_type": "markdown",
   "metadata": {},
   "source": [
    "# 2) Diseño filtro de Filtro de Maxima Planicidad:\n",
    "\n",
    "## Requisitos de plantilla:\n",
    "\n",
    "$$\n",
    "\\alpha max = 1dB\t;500Hz\n",
    "$$\n",
    "\n",
    "$$\n",
    "\\alpha min = 18dB\t ;1500Hz\n",
    "$$"
   ]
  },
  {
   "cell_type": "markdown",
   "metadata": {},
   "source": [
    "## Cálculo de ϵ y N\n",
    "\n",
    "Tras haber aplicado una norma de frecuencia $$ N_{\\Omega_1} = 2 \\pi 500Hz$$\n",
    "\n"
   ]
  },
  {
   "cell_type": "markdown",
   "metadata": {},
   "source": [
    "$$\n",
    "αmax = 1dB\t;wp=1\n",
    "$$\n",
    "\n",
    "$$\n",
    "αmin = 18dB\t ;ws=3\n",
    "$$"
   ]
  },
  {
   "cell_type": "markdown",
   "metadata": {},
   "source": [
    "$$\\alpha_{max} = 20 log(\\sqrt{1 + \\epsilon^2 w_p^{2N}})$$\n",
    "$$\\alpha_{max} = 10 log(1 + \\epsilon^2 w_p^{2N})$$\n",
    "$$\\frac{\\alpha_{max}}{10} = log(1 + \\epsilon^2 w_p^{2N})$$\n",
    "$$10^{0.1\\alpha_{max}} - 1 = \\epsilon^2$$\n",
    "$$\\epsilon = \\sqrt{10^{0.1\\alpha_{max}} - 1}$$\n"
   ]
  },
  {
   "cell_type": "code",
   "execution_count": 4,
   "metadata": {},
   "outputs": [
    {
     "name": "stdout",
     "output_type": "stream",
     "text": [
      "0.5088471399095875\n"
     ]
    }
   ],
   "source": [
    "import math as m\n",
    "\n",
    "alpha_max = 1    # dB\n",
    "alpha_min = 18   # dB\n",
    "w_p = 1\n",
    "w_s = 3\n",
    "epsilon = m.sqrt(m.pow(10, 0.1 * alpha_max) - 1)\n",
    "print(epsilon)\n",
    "\n"
   ]
  },
  {
   "cell_type": "markdown",
   "metadata": {},
   "source": [
    "Proseguimos con el cálculo de N. De forma similar, utilizaremos la misma expresión pero evaluada en $ws=4$. Resulta:"
   ]
  },
  {
   "cell_type": "markdown",
   "metadata": {},
   "source": [
    "$$\\alpha_{min} = 20 log(\\sqrt{1 + \\epsilon^2 C^2 (N, w_s)})$$"
   ]
  },
  {
   "cell_type": "markdown",
   "metadata": {},
   "source": [
    "$$\\sqrt{\\frac{10^{0.1\\alpha_{min}} - 1}{10^{0.1\\alpha_{max}} - 1}} = cosh(N acosh( w_s ))$$"
   ]
  },
  {
   "cell_type": "markdown",
   "metadata": {},
   "source": [
    "$$N = \\frac{acosh \\left( \\sqrt{\\frac{10^{0.1\\alpha_{min}} - 1}{10^{0.1\\alpha_{max}} - 1}} \\right )}{acosh( w_s )}$$"
   ]
  },
  {
   "cell_type": "code",
   "execution_count": 6,
   "metadata": {},
   "outputs": [
    {
     "name": "stdout",
     "output_type": "stream",
     "text": [
      "2\n"
     ]
    }
   ],
   "source": [
    "N = m.acosh(m.sqrt((m.pow(10, alpha_min * 0.1) - 1) / (m.pow(10, alpha_max * 0.1) - 1))) / m.acosh(w_s)\n",
    "print(m.ceil(N))"
   ]
  },
  {
   "cell_type": "markdown",
   "metadata": {},
   "source": [
    "###### Como la condicion del problema es que el filtro sea de orden 2 , Es posible obvtener dicho filtro con modulo de transferencia de Chebyshev , ya que N=2"
   ]
  },
  {
   "cell_type": "markdown",
   "metadata": {},
   "source": [
    "## Cálculo de los coeficientes del polinomio del filtro\n"
   ]
  },
  {
   "cell_type": "markdown",
   "metadata": {},
   "source": [
    "Las funciones armónicas de Chebyshev pueden ser expresadas por equivantes polinómicos que siguen una forma recursiva de serie:"
   ]
  },
  {
   "cell_type": "markdown",
   "metadata": {},
   "source": [
    "$$C(N,w) = 2 w C(N-1,w) - C(N-2, w)$$ "
   ]
  },
  {
   "cell_type": "markdown",
   "metadata": {},
   "source": [
    "$$C(0,w) = 1$$ $$C(1,w) = w$$"
   ]
  },
  {
   "cell_type": "markdown",
   "metadata": {},
   "source": [
    "y dado que N=2 $$C(2, w) = 2 w^2 - 1$$"
   ]
  },
  {
   "cell_type": "markdown",
   "metadata": {},
   "source": [
    "Con esto podemos calcular el modulo de la transferencia , sabiendo que $s=jw$"
   ]
  },
  {
   "cell_type": "markdown",
   "metadata": {},
   "source": [
    "$$|H_{(jw)}|^2 = H_{(jw)} H^*_{(jw)} = H_{(s)} H_{(-s)} |s=jw$$"
   ]
  },
  {
   "cell_type": "markdown",
   "metadata": {},
   "source": [
    "$$|H_{(w)}|^2 = \\frac{1}{1 + \\epsilon^2 (2w^2 - 1)^2} = H_{(s)} H_{(-s)} |s=jw$$"
   ]
  },
  {
   "cell_type": "markdown",
   "metadata": {},
   "source": [
    "$$|H_{(w)}|^2 = \\frac{1}{ 1.03226 w^4 - 1.03226 w^2 + 1.25806 }$$"
   ]
  },
  {
   "cell_type": "markdown",
   "metadata": {},
   "source": [
    "$$ H_{(s)} H_{(-s)} = \\frac{1}{(s^2 + as + b)(s^2 - as + b)} $$"
   ]
  },
  {
   "cell_type": "code",
   "execution_count": 14,
   "metadata": {},
   "outputs": [
    {
     "name": "stdout",
     "output_type": "stream",
     "text": [
      "[-0.5495303+0.89553534j -0.5495303-0.89553534j  0.5495303+0.89553534j\n",
      "  0.5495303-0.89553534j]\n"
     ]
    }
   ],
   "source": [
    "import numpy as np\n",
    "num = [1]\n",
    "den = [1.03226,0,1.03226,0,1.25806]\n",
    "roots = np.roots(den)\n",
    "print(roots)"
   ]
  },
  {
   "cell_type": "code",
   "execution_count": 16,
   "metadata": {},
   "outputs": [
    {
     "name": "stdout",
     "output_type": "stream",
     "text": [
      "s^2+1.0990605914468325*s+1.1039670918357307\n"
     ]
    }
   ],
   "source": [
    "polo = roots[0]  # T(S)\n",
    "Real = polo.real\n",
    "w0_polo = abs(polo)    \n",
    "print(f's^2+{-2*Real}*s+{w0_polo ** 2}')"
   ]
  },
  {
   "cell_type": "code",
   "execution_count": 20,
   "metadata": {},
   "outputs": [],
   "source": [
    "num_final=[1]\n",
    "den_final=[1,1.0990605914468325,1.1039670918357307]"
   ]
  },
  {
   "cell_type": "markdown",
   "metadata": {},
   "source": [
    "Entonces la transferencia es igual a : $$H_{(s)}=\\frac{1}{(s^2+1.0990605914468325s+1.1039670918357307)}$$"
   ]
  },
  {
   "cell_type": "code",
   "execution_count": 22,
   "metadata": {},
   "outputs": [
    {
     "data": {
      "text/plain": [
       "array([-0.5495303+0.89553534j, -0.5495303-0.89553534j])"
      ]
     },
     "execution_count": 22,
     "metadata": {},
     "output_type": "execute_result"
    }
   ],
   "source": [
    "import numpy as np\n",
    "raices = np.roots(den_final)\n",
    "raices"
   ]
  },
  {
   "cell_type": "code",
   "execution_count": 26,
   "metadata": {},
   "outputs": [
    {
     "data": {
      "image/png": "[encoded data removed]",
      "text/plain": [
       "<Figure size 432x288 with 1 Axes>"
      ]
     },
     "metadata": {
      "needs_background": "light"
     },
     "output_type": "display_data"
    },
    {
     "data": {
      "image/png": "[encoded data removed]",
      "text/plain": [
       "<Figure size 432x288 with 1 Axes>"
      ]
     },
     "metadata": {
      "needs_background": "light"
     },
     "output_type": "display_data"
    }
   ],
   "source": [
    "import scipy.signal as signal\n",
    "import splane\n",
    "\n",
    "filtro = signal.TransferFunction(num_final, den_final)\n",
    "\n",
    "splane.bodePlot(filtro)"
   ]
  },
  {
   "cell_type": "code",
   "execution_count": 27,
   "metadata": {},
   "outputs": [
    {
     "name": "stdout",
     "output_type": "stream",
     "text": [
      "0 zeros: []\n",
      "2 poles: [-0.5495303+0.89553534j -0.5495303-0.89553534j]\n",
      "gain: 1.0\n"
     ]
    },
    {
     "data": {
      "image/png": "[encoded data removed]",
      "text/plain": [
       "<Figure size 432x288 with 1 Axes>"
      ]
     },
     "metadata": {
      "needs_background": "light"
     },
     "output_type": "display_data"
    }
   ],
   "source": [
    "splane.pzmap(filtro)"
   ]
  },
  {
   "cell_type": "markdown",
   "metadata": {},
   "source": [
    "## Calculo de componentes para el filtro Ackerberg-Mossberg"
   ]
  },
  {
   "cell_type": "code",
   "execution_count": 40,
   "metadata": {},
   "outputs": [
    {
     "name": "stdout",
     "output_type": "stream",
     "text": [
      "1000 1000 1100.0 1000 900.0 1000 3.1830988618478294e-07\n"
     ]
    }
   ],
   "source": [
    "Nr = 1000 \n",
    "Nw = 500*2*3.14159265358\n",
    "\n",
    "R1 = 1\n",
    "R2 = 1\n",
    "R3 = 1.1\n",
    "R5 = 1\n",
    "RK = 1\n",
    "RQ = 0.9\n",
    "C1 = 1\n",
    "R11 = R1 * Nr\n",
    "R21 = R2 * Nr\n",
    "R31 = R3 * Nr\n",
    "R51 = R5 * Nr\n",
    "R_Q = RQ * Nr\n",
    "R_K = RK * Nr\n",
    "C11 = C1 / Nr / Nw\n",
    "\n",
    "print(R11,R21,R31,R51,R_Q,R_K,C11)"
   ]
  },
  {
   "cell_type": "markdown",
   "metadata": {},
   "source": [
    "![](d1.png)"
   ]
  },
  {
   "cell_type": "markdown",
   "metadata": {},
   "source": [
    "![](d2.png)"
   ]
  },
  {
   "cell_type": "markdown",
   "metadata": {},
   "source": [
    "![](d4.png)\n"
   ]
  },
  {
   "cell_type": "markdown",
   "metadata": {},
   "source": [
    "## Viendo la simulacion , podemos decir que cumple con la plantilla propuesta y es un filtro valido para el trabajo"
   ]
  },
  {
   "cell_type": "code",
   "execution_count": null,
   "metadata": {},
   "outputs": [],
   "source": []
  }
 ],
 "metadata": {
  "kernelspec": {
   "display_name": "Python 3",
   "language": "python",
   "name": "python3"
  },
  "language_info": {
   "codemirror_mode": {
    "name": "ipython",
    "version": 3
   },
   "file_extension": ".py",
   "mimetype": "text/x-python",
   "name": "python",
   "nbconvert_exporter": "python",
   "pygments_lexer": "ipython3",
   "version": "3.8.2"
  }
 },
 "nbformat": 4,
 "nbformat_minor": 4
}

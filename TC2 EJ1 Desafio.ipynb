{
 "cells": [
  {
   "cell_type": "markdown",
   "metadata": {},
   "source": [
    "# 1) Diseño filtro de Filtro de Maxima Planicidad:\n",
    "\n",
    "## Requisitos de plantilla:\n",
    "\n",
    "$$\n",
    "αmax = 1dB\t;500Hz\n",
    "$$\n",
    "\n",
    "$$\n",
    "αmin = 18dB\t ;1500Hz\n",
    "$$"
   ]
  },
  {
   "cell_type": "markdown",
   "metadata": {},
   "source": [
    "## Cálculo de ϵ y N\n",
    "\n",
    "Tras haber aplicado una norma de frecuencia $$ N_{\\Omega_1} = 2 \\pi 500Hz$$\n",
    "\n"
   ]
  },
  {
   "cell_type": "markdown",
   "metadata": {},
   "source": [
    "$$\n",
    "αmax = 1dB\t;wp=1\n",
    "$$\n",
    "\n",
    "$$\n",
    "αmin = 18dB\t ;ws=3\n",
    "$$"
   ]
  },
  {
   "cell_type": "markdown",
   "metadata": {},
   "source": [
    "Entonces, a partir de la expresión de la transferencia de la cual conocemos dos valores de w y dos valores del módulo de la atenuación, vamos a despejar los parámetros del filtro. Comencemos por $wp=1$\n"
   ]
  },
  {
   "cell_type": "markdown",
   "metadata": {},
   "source": [
    "$$\\alpha_{max} = 20 log(\\sqrt{1 + \\epsilon^2 w_p^{2N}})$$\n",
    "$$\\alpha_{max} = 10 log(1 + \\epsilon^2 w_p^{2N})$$\n",
    "$$\\frac{\\alpha_{max}}{10} = log(1 + \\epsilon^2 w_p^{2N})$$\n",
    "$$10^{0.1\\alpha_{max}} - 1 = \\epsilon^2$$\n",
    "$$\\epsilon = \\sqrt{10^{0.1\\alpha_{max}} - 1}$$\n"
   ]
  },
  {
   "cell_type": "code",
   "execution_count": 9,
   "metadata": {},
   "outputs": [
    {
     "name": "stdout",
     "output_type": "stream",
     "text": [
      "0.5088471399095875\n"
     ]
    }
   ],
   "source": [
    "import math as m\n",
    "\n",
    "alpha_max = 1    # dB\n",
    "alpha_min = 18   # dB\n",
    "w_p = 1\n",
    "w_s = 3\n",
    "epsilon = m.sqrt(m.pow(10, 0.1 * alpha_max) - 1)\n",
    "print(epsilon)\n"
   ]
  },
  {
   "cell_type": "markdown",
   "metadata": {},
   "source": [
    "Proseguimos con el cálculo de N. De forma similar, utilizaremos la misma expresión pero evaluada en $ws=4$. Resulta:"
   ]
  },
  {
   "cell_type": "markdown",
   "metadata": {},
   "source": [
    "$$\\alpha_{min} = 20 log(\\sqrt{1 + \\epsilon^2 w_s^{2N}})$$\n",
    "$$\\alpha_{min} = 10 log(1 + \\epsilon^2 w_s^{2N})$$\n",
    "$$\\frac{10^{0.1\\alpha_{min}} - 1}{10^{0.1\\alpha_{max}} - 1} = w_s^{2N}$$\n",
    "$$log(\\frac{10^{0.1\\alpha_{min}} - 1}{10^{0.1\\alpha_{max}} - 1}) = 2N log(w_s)$$\n",
    "$$N = \\frac{log(\\frac{10^{0.1\\alpha_{min}} - 1}{10^{0.1\\alpha_{max}} - 1})}{2 log(w_s)}$$\n",
    "\n"
   ]
  },
  {
   "cell_type": "code",
   "execution_count": 11,
   "metadata": {},
   "outputs": [
    {
     "data": {
      "text/plain": [
       "3"
      ]
     },
     "execution_count": 11,
     "metadata": {},
     "output_type": "execute_result"
    }
   ],
   "source": [
    "N = m.log10((m.pow(10, alpha_min * 0.1) - 1) / (m.pow(10, alpha_max * 0.1) - 1)) / (2 * m.log10(w_s))\n",
    "N = m.ceil(N)\n",
    "N"
   ]
  },
  {
   "cell_type": "markdown",
   "metadata": {},
   "source": [
    "###### Como la condicion del problema es que el filtro sea de orden 2 , NO es posible obvtener dicho filtro modulo de transferencia de Maxima planicidad , ya que N>2"
   ]
  },
  {
   "cell_type": "markdown",
   "metadata": {},
   "source": [
    "# 2) Diseño filtro de Filtro de Maxima Planicidad:\n",
    "\n",
    "## Requisitos de plantilla:\n",
    "\n",
    "$$\n",
    "αmax = 1dB\t;500Hz\n",
    "$$\n",
    "\n",
    "$$\n",
    "αmin = 18dB\t ;1500Hz\n",
    "$$"
   ]
  },
  {
   "cell_type": "code",
   "execution_count": null,
   "metadata": {},
   "outputs": [],
   "source": []
  }
 ],
 "metadata": {
  "kernelspec": {
   "display_name": "Python 3",
   "language": "python",
   "name": "python3"
  },
  "language_info": {
   "codemirror_mode": {
    "name": "ipython",
    "version": 3
   },
   "file_extension": ".py",
   "mimetype": "text/x-python",
   "name": "python",
   "nbconvert_exporter": "python",
   "pygments_lexer": "ipython3",
   "version": "3.8.2"
  }
 },
 "nbformat": 4,
 "nbformat_minor": 4
}
